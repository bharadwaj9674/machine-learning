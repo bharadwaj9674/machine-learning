{
 "cells": [
  {
   "cell_type": "code",
   "execution_count": 1,
   "id": "fc3156ad",
   "metadata": {},
   "outputs": [],
   "source": [
    "import pandas as pd\n",
    "import numpy as np\n",
    "import seaborn as sns\n",
    "import matplotlib.pyplot as plt\n",
    "import statistics as stats"
   ]
  },
  {
   "cell_type": "code",
   "execution_count": 2,
   "id": "567cb565",
   "metadata": {},
   "outputs": [],
   "source": [
    "samples = [1,2,2,3,4,5,6,7,8,9,100]\n",
    "samples = np.array(samples)"
   ]
  },
  {
   "cell_type": "code",
   "execution_count": 3,
   "id": "03667782",
   "metadata": {},
   "outputs": [],
   "source": [
    "mean = np.mean(samples)\n",
    "median = np.median(samples)\n",
    "mode = stats.mode(samples)\n",
    "std_dev = np.std(samples)"
   ]
  },
  {
   "cell_type": "code",
   "execution_count": 4,
   "id": "bd1b960f",
   "metadata": {
    "scrolled": true
   },
   "outputs": [
    {
     "name": "stdout",
     "output_type": "stream",
     "text": [
      "<----------With Outlier---------->\n",
      "\n",
      "mean 13.363636363636363\n",
      "median 5.0\n",
      "mode 2\n",
      "standard deviation 27.50957759588708\n"
     ]
    }
   ],
   "source": [
    "print('<----------With Outlier---------->')\n",
    "print()\n",
    "print('mean',mean)\n",
    "print('median',median)\n",
    "print('mode',mode)\n",
    "print('standard deviation',std_dev)"
   ]
  },
  {
   "cell_type": "code",
   "execution_count": 5,
   "id": "f3ea09f2",
   "metadata": {},
   "outputs": [],
   "source": [
    "samples = [1,2,2,3,4,5,6,7,8,9]\n",
    "samples = np.array(samples)"
   ]
  },
  {
   "cell_type": "code",
   "execution_count": 6,
   "id": "76ce37dc",
   "metadata": {},
   "outputs": [],
   "source": [
    "mean = np.mean(samples)\n",
    "median = np.median(samples)\n",
    "mode = stats.mode(samples)\n",
    "std_dev = np.std(samples)"
   ]
  },
  {
   "cell_type": "code",
   "execution_count": 7,
   "id": "1ed5eaf5",
   "metadata": {},
   "outputs": [
    {
     "name": "stdout",
     "output_type": "stream",
     "text": [
      "<----------After removing outlier---------->\n",
      "\n",
      "mean 4.7\n",
      "median 4.5\n",
      "mode 2\n",
      "standard deviation 2.6095976701399777\n"
     ]
    }
   ],
   "source": [
    "print('<----------After removing outlier---------->')\n",
    "print()\n",
    "print('mean',mean)\n",
    "print('median',median)\n",
    "print('mode',mode)\n",
    "print('standard deviation',std_dev)"
   ]
  },
  {
   "cell_type": "code",
   "execution_count": 8,
   "id": "d3cad027",
   "metadata": {},
   "outputs": [],
   "source": []
  }
 ],
 "metadata": {
  "kernelspec": {
   "display_name": "Python 3 (ipykernel)",
   "language": "python",
   "name": "python3"
  },
  "language_info": {
   "codemirror_mode": {
    "name": "ipython",
    "version": 3
   },
   "file_extension": ".py",
   "mimetype": "text/x-python",
   "name": "python",
   "nbconvert_exporter": "python",
   "pygments_lexer": "ipython3",
   "version": "3.9.7"
  }
 },
 "nbformat": 4,
 "nbformat_minor": 5
}
