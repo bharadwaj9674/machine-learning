{
 "cells": [
  {
   "cell_type": "markdown",
   "id": "5de0d175",
   "metadata": {},
   "source": [
    "t-test is a statistical test and used to determine if there is any significant difference between the means of two groups.\n",
    "\n",
    "If we are considering only one continuous feature, then we can use one sample t-test."
   ]
  },
  {
   "cell_type": "code",
   "execution_count": 1,
   "id": "85457e75",
   "metadata": {},
   "outputs": [],
   "source": [
    "import numpy as np\n",
    "\n",
    "from scipy.stats import ttest_1samp"
   ]
  },
  {
   "cell_type": "code",
   "execution_count": 2,
   "id": "12ca0921",
   "metadata": {},
   "outputs": [],
   "source": [
    "ages = [10,20,35,50,28,40,55,18,16,55,30,25,43,18,30,28,14,24,16,17,32,35,26,27,65,18,43,23,21,20,19,70]"
   ]
  },
  {
   "cell_type": "code",
   "execution_count": 3,
   "id": "0442e9ca",
   "metadata": {},
   "outputs": [
    {
     "data": {
      "text/plain": [
       "32"
      ]
     },
     "execution_count": 3,
     "metadata": {},
     "output_type": "execute_result"
    }
   ],
   "source": [
    "len(ages)"
   ]
  },
  {
   "cell_type": "code",
   "execution_count": 4,
   "id": "e0455046",
   "metadata": {},
   "outputs": [
    {
     "name": "stdout",
     "output_type": "stream",
     "text": [
      "30.34375\n"
     ]
    }
   ],
   "source": [
    "ages_mean = np.mean(ages)\n",
    "print(ages_mean)"
   ]
  },
  {
   "cell_type": "code",
   "execution_count": 5,
   "id": "d187b11c",
   "metadata": {},
   "outputs": [],
   "source": [
    "sample_size = 10\n",
    "age_sample = np.random.choice(ages,sample_size)"
   ]
  },
  {
   "cell_type": "code",
   "execution_count": 6,
   "id": "02bb4cb1",
   "metadata": {
    "scrolled": true
   },
   "outputs": [
    {
     "name": "stdout",
     "output_type": "stream",
     "text": [
      "[35 20 19 18 55 18 10 14 21 35]\n",
      "24.5\n"
     ]
    }
   ],
   "source": [
    "print(age_sample)\n",
    "ages_sample_mean = np.mean(age_sample)\n",
    "print(ages_sample_mean)"
   ]
  },
  {
   "cell_type": "markdown",
   "id": "1343f8ed",
   "metadata": {},
   "source": [
    "Here p is significance value.\n",
    "\n",
    "If p is less that 0.05 we are rejecting null hypothesis and accepting alternating hypothesis.\n",
    "\n",
    "If p value is greater than 0.05 then we are accepting null hypothesis."
   ]
  },
  {
   "cell_type": "code",
   "execution_count": 7,
   "id": "07c5c2a5",
   "metadata": {},
   "outputs": [],
   "source": [
    "ttest,p_value = ttest_1samp(age_sample,30)"
   ]
  },
  {
   "cell_type": "code",
   "execution_count": 8,
   "id": "9e426494",
   "metadata": {
    "scrolled": true
   },
   "outputs": [
    {
     "name": "stdout",
     "output_type": "stream",
     "text": [
      "0.22690515066011183\n"
     ]
    }
   ],
   "source": [
    "print(p_value)"
   ]
  },
  {
   "cell_type": "code",
   "execution_count": 9,
   "id": "43e0aad0",
   "metadata": {},
   "outputs": [
    {
     "name": "stdout",
     "output_type": "stream",
     "text": [
      "-1.296963017073053\n"
     ]
    }
   ],
   "source": [
    "print(ttest)"
   ]
  },
  {
   "cell_type": "code",
   "execution_count": 10,
   "id": "7ea82736",
   "metadata": {},
   "outputs": [
    {
     "name": "stdout",
     "output_type": "stream",
     "text": [
      "We are accepting null hypothesis\n"
     ]
    }
   ],
   "source": [
    "if p_value < 0.05:\n",
    "    print(\" We are rejecting null hypothesis\")\n",
    "else:\n",
    "    print(\"We are accepting null hypothesis\")"
   ]
  },
  {
   "cell_type": "markdown",
   "id": "169412d1",
   "metadata": {},
   "source": [
    "If we are considering two features, then we can use two sample t-test."
   ]
  },
  {
   "cell_type": "markdown",
   "id": "96143ca3",
   "metadata": {},
   "source": [
    "If we want to check how different sample from the same group are we can use paired t-test.\n",
    "\n",
    "For example lets consider weights of some students, after some days weight may change. But we are considering same group, so here we have to use paired t-test."
   ]
  },
  {
   "cell_type": "markdown",
   "id": "2379cb38",
   "metadata": {},
   "source": [
    "And if there is one numerical feature and one categorical feature with only two categories then we can use t-test.\n",
    "\n",
    "If there is one numerical feature and one categorical feature with more than two categories then we have to go with ANOVA test."
   ]
  },
  {
   "cell_type": "code",
   "execution_count": null,
   "id": "ae9a2dba",
   "metadata": {},
   "outputs": [],
   "source": []
  }
 ],
 "metadata": {
  "kernelspec": {
   "display_name": "Python 3 (ipykernel)",
   "language": "python",
   "name": "python3"
  },
  "language_info": {
   "codemirror_mode": {
    "name": "ipython",
    "version": 3
   },
   "file_extension": ".py",
   "mimetype": "text/x-python",
   "name": "python",
   "nbconvert_exporter": "python",
   "pygments_lexer": "ipython3",
   "version": "3.9.7"
  }
 },
 "nbformat": 4,
 "nbformat_minor": 5
}
