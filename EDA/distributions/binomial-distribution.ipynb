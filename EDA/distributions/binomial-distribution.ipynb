{
 "cells": [
  {
   "cell_type": "markdown",
   "id": "eb1a0fb3",
   "metadata": {},
   "source": [
    "Bernoulli Event ---> Which outcome we expect for a single trail.\n",
    "\n",
    "Binomial Event  ---> Number of times we expect to get a specific outcome."
   ]
  },
  {
   "cell_type": "markdown",
   "id": "06e31c05",
   "metadata": {},
   "source": [
    "Binomial distribution is used to model the discrete data.\n",
    "\n",
    "eg: Number of success in a fixed number of trails."
   ]
  },
  {
   "cell_type": "markdown",
   "id": "a5966ddd",
   "metadata": {},
   "source": [
    "The parameters used in binomial distribution are success and no.of trails."
   ]
  },
  {
   "cell_type": "markdown",
   "id": "b1f917aa",
   "metadata": {},
   "source": [
    "Binomial distribution is used to find the probability of the success for the total number of trails."
   ]
  },
  {
   "cell_type": "code",
   "execution_count": 4,
   "id": "fc34a098",
   "metadata": {},
   "outputs": [],
   "source": [
    "import pandas as pd\n",
    "import scipy.stats as stats"
   ]
  },
  {
   "cell_type": "code",
   "execution_count": 5,
   "id": "ae4c3738",
   "metadata": {},
   "outputs": [
    {
     "name": "stdout",
     "output_type": "stream",
     "text": [
      "col_0   0   1    2     3     4     5     6     7    8   9   10\n",
      "row_0                                                         \n",
      "counts   9  97  429  1168  1993  2482  2061  1190  468  95   8\n"
     ]
    },
    {
     "data": {
      "image/png": "[encoded data removed]",
      "text/plain": [
       "<Figure size 432x288 with 1 Axes>"
      ]
     },
     "metadata": {
      "needs_background": "light"
     },
     "output_type": "display_data"
    }
   ],
   "source": [
    "fair_coin_flips = stats.binom.rvs(n=10,        # Number of flips per trial\n",
    "                                  p=0.5,       # Success probability\n",
    "                                  size=10000)  # Number of trials\n",
    "\n",
    "print( pd.crosstab(index=\"counts\", columns= fair_coin_flips))\n",
    "\n",
    "pd.DataFrame(fair_coin_flips).hist(range=(-0.5,10.5), bins=11);"
   ]
  },
  {
   "cell_type": "markdown",
   "id": "6b57ef37",
   "metadata": {},
   "source": [
    "For continuous probability density functions, you can use pdf() to check the probability density at a given x value.\n",
    "\n",
    "For discrete distributions like the binomial, use stats.distribution.pmf() to check the density i.e., proportion of observations at given number of successes k.\n",
    "\n",
    "pdf --> probability density function\n",
    "pmf --> probability mass function"
   ]
  },
  {
   "cell_type": "code",
   "execution_count": 6,
   "id": "4e5d2ccc",
   "metadata": {},
   "outputs": [
    {
     "data": {
      "text/plain": [
       "0.03279349759999997"
      ]
     },
     "execution_count": 6,
     "metadata": {},
     "output_type": "execute_result"
    }
   ],
   "source": [
    "stats.binom.cdf(k=5,        # Probability of k = 5 successes or less\n",
    "                n=10,       # With 10 flips\n",
    "                p=0.8)      # And success probability 0.8"
   ]
  },
  {
   "cell_type": "code",
   "execution_count": 7,
   "id": "844c4879",
   "metadata": {},
   "outputs": [
    {
     "data": {
      "text/plain": [
       "0.37580963840000015"
      ]
     },
     "execution_count": 7,
     "metadata": {},
     "output_type": "execute_result"
    }
   ],
   "source": [
    "1 - stats.binom.cdf(k=8,        # Probability of k = 9 successes or more\n",
    "                    n=10,       # With 10 flips\n",
    "                    p=0.8)      # And success probability 0.8"
   ]
  },
  {
   "cell_type": "code",
   "execution_count": 8,
   "id": "ff298c6a",
   "metadata": {},
   "outputs": [
    {
     "data": {
      "text/plain": [
       "0.24609375000000003"
      ]
     },
     "execution_count": 8,
     "metadata": {},
     "output_type": "execute_result"
    }
   ],
   "source": [
    "stats.binom.pmf(k=5,        # Probability of k = 5 successes\n",
    "                n=10,       # With 10 flips\n",
    "                p=0.5)      # And success probability 0.5"
   ]
  },
  {
   "cell_type": "code",
   "execution_count": 9,
   "id": "4a56b0fe",
   "metadata": {},
   "outputs": [
    {
     "data": {
      "text/plain": [
       "0.30198988799999993"
      ]
     },
     "execution_count": 9,
     "metadata": {},
     "output_type": "execute_result"
    }
   ],
   "source": [
    "stats.binom.pmf(k=8,        # Probability of k = 8 successes\n",
    "                n=10,       # With 10 flips\n",
    "                p=0.8)      # And success probability 0.8"
   ]
  }
 ],
 "metadata": {
  "kernelspec": {
   "display_name": "Python 3 (ipykernel)",
   "language": "python",
   "name": "python3"
  },
  "language_info": {
   "codemirror_mode": {
    "name": "ipython",
    "version": 3
   },
   "file_extension": ".py",
   "mimetype": "text/x-python",
   "name": "python",
   "nbconvert_exporter": "python",
   "pygments_lexer": "ipython3",
   "version": "3.9.7"
  }
 },
 "nbformat": 4,
 "nbformat_minor": 5
}
