{
 "cells": [
  {
   "cell_type": "markdown",
   "id": "eb1a0fb3",
   "metadata": {},
   "source": [
    "Bernoulli Event ---> Which outcome we expect for a single trail.\n",
    "\n",
    "Binomial Event  ---> Number of times we expect to get a specific outcome."
   ]
  },
  {
   "cell_type": "markdown",
   "id": "06e31c05",
   "metadata": {},
   "source": [
    "Binomial distribution is used to model the discrete data.\n",
    "\n",
    "eg: Number of success in a fixed number of trails."
   ]
  },
  {
   "cell_type": "markdown",
   "id": "a5966ddd",
   "metadata": {},
   "source": [
    "The parameters used in binomial distribution are success and no.of trails."
   ]
  },
  {
   "cell_type": "markdown",
   "id": "b1f917aa",
   "metadata": {},
   "source": [
    "Binomial distribution is used to find the probability of the success for the total number of trails."
   ]
  }
 ],
 "metadata": {
  "kernelspec": {
   "display_name": "Python 3 (ipykernel)",
   "language": "python",
   "name": "python3"
  },
  "language_info": {
   "codemirror_mode": {
    "name": "ipython",
    "version": 3
   },
   "file_extension": ".py",
   "mimetype": "text/x-python",
   "name": "python",
   "nbconvert_exporter": "python",
   "pygments_lexer": "ipython3",
   "version": "3.9.7"
  }
 },
 "nbformat": 4,
 "nbformat_minor": 5
}
