{
 "cells": [
  {
   "cell_type": "markdown",
   "id": "ce756fee",
   "metadata": {},
   "source": [
    "If one tail is longer than the other tail, then the distribution is said to be skewed.\n",
    "\n",
    "If the left tail is longer than right tail then the distribution is said to be left-skewed distribution. Mean will be shifted to the left of the median.\n",
    "\n",
    "If the right tail is longer than left tail then the distribution is said to be right-skewed distribution. Mean will be shifted to the right of the median."
   ]
  },
  {
   "cell_type": "markdown",
   "id": "d62509cf",
   "metadata": {},
   "source": [
    "If we have normal distribution, then we can easily gain understanding about the dataset. But real life distributions of the dataset are mostly skewed. We can use log transformation to convert this skewed distribution to approximate normal distribution."
   ]
  },
  {
   "cell_type": "markdown",
   "id": "63e8dbb5",
   "metadata": {},
   "source": [
    "We can also find the skewed distribution by the help of boxplot.\n",
    "\n",
    "If the box in the box plot is shifted to the left and if the right whisker is longer then it is right skewed.\n",
    "\n",
    "If the box in the box plot is shifted to the right and if the left whisker is longer then it is left skewed."
   ]
  },
  {
   "cell_type": "markdown",
   "id": "246efbdd",
   "metadata": {},
   "source": [
    "Model cannot gain any information if the data is skewed and the results of the machine learning model will be biased."
   ]
  },
  {
   "cell_type": "markdown",
   "id": "cc9a0995",
   "metadata": {},
   "source": [
    "If the data is normally distributed then it will have faster learning rate and it will converge quickly. So we have to apply some transformations to the skewed data. And we have to convert this data, so that the data will be approximatedly in the normal distribution."
   ]
  }
 ],
 "metadata": {
  "kernelspec": {
   "display_name": "Python 3 (ipykernel)",
   "language": "python",
   "name": "python3"
  },
  "language_info": {
   "codemirror_mode": {
    "name": "ipython",
    "version": 3
   },
   "file_extension": ".py",
   "mimetype": "text/x-python",
   "name": "python",
   "nbconvert_exporter": "python",
   "pygments_lexer": "ipython3",
   "version": "3.9.7"
  }
 },
 "nbformat": 4,
 "nbformat_minor": 5
}
